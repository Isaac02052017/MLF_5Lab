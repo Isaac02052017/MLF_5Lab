{
 "cells": [
  {
   "attachments": {},
   "cell_type": "markdown",
   "metadata": {},
   "source": [
    "# **Tidying**"
   ]
  },
  {
   "attachments": {},
   "cell_type": "markdown",
   "metadata": {},
   "source": [
    "Part of the data engineering process is data cleaning and tidying. What is done in those two processes, is trying to make the data more readable, and complete. This makes much easier to analyze, visualize, and train the data.\n"
   ]
  },
  {
   "attachments": {},
   "cell_type": "markdown",
   "metadata": {},
   "source": [
    "## **Data Tidying**\n",
    "\n",
    "Making the data more organized, and readable is the result of applying data tidying. \n",
    "\n",
    "In this section two main pandas functions are used in data tidying those are `melt` and `pivot_table`."
   ]
  },
  {
   "attachments": {},
   "cell_type": "markdown",
   "metadata": {},
   "source": [
    "Let's start by taking a look at the below dataframe, which represents the income ranges based on religion. This is part of the PEW research, which is famous in the US for conducting pollings and surveys on citizens.\n",
    "\n",
    "When the following are satisfied:\n",
    "\n",
    "\n",
    "1. Each variable forms a column\n",
    "2. Each observation forms a row\n",
    "3. Each type of observational unit forms a table\n",
    "\n",
    "We can then say that our dataset is *tidy*.\n",
    "\n",
    "First we need to import pandas to read csv datasets."
   ]
  },
  {
   "cell_type": "code",
   "execution_count": 2,
   "metadata": {},
   "outputs": [],
   "source": [
    "import pandas as pd\n",
    "import numpy as np\n"
   ]
  },
  {
   "attachments": {},
   "cell_type": "markdown",
   "metadata": {},
   "source": [
    "### **PEW Research Dataset**"
   ]
  },
  {
   "attachments": {},
   "cell_type": "markdown",
   "metadata": {},
   "source": [
    "1. Start by Importing the dataset into a pandas dataframe."
   ]
  },
  {
   "cell_type": "code",
   "execution_count": 4,
   "metadata": {},
   "outputs": [],
   "source": [
    "df_pew_research = pd.read_csv(r\"data/pew-raw.csv\" )"
   ]
  },
  {
   "attachments": {},
   "cell_type": "markdown",
   "metadata": {},
   "source": [
    "2. Observe the dataset using the `loc`, `iloc`, `head`, or `tail` approaches"
   ]
  },
  {
   "cell_type": "code",
   "execution_count": 12,
   "metadata": {},
   "outputs": [
    {
     "data": {
      "text/html": [
       "<div>\n",
       "<style scoped>\n",
       "    .dataframe tbody tr th:only-of-type {\n",
       "        vertical-align: middle;\n",
       "    }\n",
       "\n",
       "    .dataframe tbody tr th {\n",
       "        vertical-align: top;\n",
       "    }\n",
       "\n",
       "    .dataframe thead th {\n",
       "        text-align: right;\n",
       "    }\n",
       "</style>\n",
       "<table border=\"1\" class=\"dataframe\">\n",
       "  <thead>\n",
       "    <tr style=\"text-align: right;\">\n",
       "      <th></th>\n",
       "      <th>religion</th>\n",
       "      <th>&lt;$10k</th>\n",
       "      <th>$10-20k</th>\n",
       "      <th>$20-30k</th>\n",
       "      <th>$30-40k</th>\n",
       "      <th>$40-50k</th>\n",
       "      <th>$50-75k</th>\n",
       "    </tr>\n",
       "  </thead>\n",
       "  <tbody>\n",
       "    <tr>\n",
       "      <th>0</th>\n",
       "      <td>Agnostic</td>\n",
       "      <td>27</td>\n",
       "      <td>34</td>\n",
       "      <td>60</td>\n",
       "      <td>81</td>\n",
       "      <td>76</td>\n",
       "      <td>137</td>\n",
       "    </tr>\n",
       "    <tr>\n",
       "      <th>1</th>\n",
       "      <td>Atheist</td>\n",
       "      <td>12</td>\n",
       "      <td>27</td>\n",
       "      <td>37</td>\n",
       "      <td>52</td>\n",
       "      <td>35</td>\n",
       "      <td>70</td>\n",
       "    </tr>\n",
       "    <tr>\n",
       "      <th>2</th>\n",
       "      <td>Buddhist</td>\n",
       "      <td>27</td>\n",
       "      <td>21</td>\n",
       "      <td>30</td>\n",
       "      <td>34</td>\n",
       "      <td>33</td>\n",
       "      <td>58</td>\n",
       "    </tr>\n",
       "    <tr>\n",
       "      <th>3</th>\n",
       "      <td>Catholic</td>\n",
       "      <td>418</td>\n",
       "      <td>617</td>\n",
       "      <td>732</td>\n",
       "      <td>670</td>\n",
       "      <td>638</td>\n",
       "      <td>1116</td>\n",
       "    </tr>\n",
       "    <tr>\n",
       "      <th>4</th>\n",
       "      <td>Dont know/refused</td>\n",
       "      <td>15</td>\n",
       "      <td>14</td>\n",
       "      <td>15</td>\n",
       "      <td>11</td>\n",
       "      <td>10</td>\n",
       "      <td>35</td>\n",
       "    </tr>\n",
       "  </tbody>\n",
       "</table>\n",
       "</div>"
      ],
      "text/plain": [
       "            religion   <$10k   $10-20k  $20-30k  $30-40k   $40-50k  $50-75k\n",
       "0           Agnostic      27        34       60       81        76      137\n",
       "1            Atheist      12        27       37       52        35       70\n",
       "2           Buddhist      27        21       30       34        33       58\n",
       "3           Catholic     418       617      732      670       638     1116\n",
       "4  Dont know/refused      15        14       15       11        10       35"
      ]
     },
     "execution_count": 12,
     "metadata": {},
     "output_type": "execute_result"
    }
   ],
   "source": [
    "df_pew_research.head(5)"
   ]
  },
  {
   "cell_type": "code",
   "execution_count": 36,
   "metadata": {},
   "outputs": [
    {
     "name": "stdout",
     "output_type": "stream",
     "text": [
      "First 5 rows using head():\n",
      "   Pregnancies  Glucose  BloodPressure  SkinThickness  Insulin   BMI  \\\n",
      "0            6      148             72             35        0  33.6   \n",
      "1            1       85             66             29        0  26.6   \n",
      "2            8      183             64              0        0  23.3   \n",
      "3            1       89             66             23       94  28.1   \n",
      "4            0      137             40             35      168  43.1   \n",
      "\n",
      "   DiabetesPedigreeFunction  Age  Outcome  \n",
      "0                     0.627   50        1  \n",
      "1                     0.351   31        0  \n",
      "2                     0.672   32        1  \n",
      "3                     0.167   21        0  \n",
      "4                     2.288   33        1  \n",
      "\n",
      "Last 5 rows using tail():\n",
      "     Pregnancies  Glucose  BloodPressure  SkinThickness  Insulin   BMI  \\\n",
      "763           10      101             76             48      180  32.9   \n",
      "764            2      122             70             27        0  36.8   \n",
      "765            5      121             72             23      112  26.2   \n",
      "766            1      126             60              0        0  30.1   \n",
      "767            1       93             70             31        0  30.4   \n",
      "\n",
      "     DiabetesPedigreeFunction  Age  Outcome  \n",
      "763                     0.171   63        0  \n",
      "764                     0.340   27        0  \n",
      "765                     0.245   30        0  \n",
      "766                     0.349   47        1  \n",
      "767                     0.315   23        0  \n",
      "\n",
      "First 3 rows using iloc:\n",
      "   Pregnancies  Glucose  BloodPressure  SkinThickness  Insulin   BMI  \\\n",
      "0            6      148             72             35        0  33.6   \n",
      "1            1       85             66             29        0  26.6   \n",
      "2            8      183             64              0        0  23.3   \n",
      "\n",
      "   DiabetesPedigreeFunction  Age  Outcome  \n",
      "0                     0.627   50        1  \n",
      "1                     0.351   31        0  \n",
      "2                     0.672   32        1  \n",
      "\n",
      "Rows 0 to 2 using loc:\n",
      "   Pregnancies  Glucose  BloodPressure  SkinThickness  Insulin   BMI  \\\n",
      "0            6      148             72             35        0  33.6   \n",
      "1            1       85             66             29        0  26.6   \n",
      "2            8      183             64              0        0  23.3   \n",
      "\n",
      "   DiabetesPedigreeFunction  Age  Outcome  \n",
      "0                     0.627   50        1  \n",
      "1                     0.351   31        0  \n",
      "2                     0.672   32        1  \n"
     ]
    }
   ],
   "source": [
    "\n",
    "# Display the first few rows\n",
    "print(\"First 5 rows using head():\")\n",
    "print(df.head())\n",
    "\n",
    "# Display the last few rows\n",
    "print(\"\\nLast 5 rows using tail():\")\n",
    "print(df.tail())\n",
    "\n",
    "# Access specific rows using iloc (e.g., first 3 rows)\n",
    "print(\"\\nFirst 3 rows using iloc:\")\n",
    "print(df.iloc[:3])\n",
    "\n",
    "# Access specific rows and columns using loc (e.g., rows 0 to 2 and all columns)\n",
    "print(\"\\nRows 0 to 2 using loc:\")\n",
    "print(df.loc[0:2])\n"
   ]
  },
  {
   "attachments": {},
   "cell_type": "markdown",
   "metadata": {},
   "source": [
    "***What does not seem right in the above dataframe?***"
   ]
  },
  {
   "cell_type": "markdown",
   "metadata": {},
   "source": [
    "The Pew dataset doesn't look quite right because the income groups are used as column headers instead of values in a column, which makes the data harder to analyze. It’s in a wide format, but for better analysis, it should be in a long format where each row shows a religion and its corresponding income group. This layout makes it difficult to filter, group, or visualize the data properly."
   ]
  },
  {
   "attachments": {},
   "cell_type": "markdown",
   "metadata": {},
   "source": [
    "3. Try to make the column headers represent a variable not a value. For that, use the `melt` function."
   ]
  },
  {
   "cell_type": "code",
   "execution_count": 41,
   "metadata": {},
   "outputs": [
    {
     "name": "stdout",
     "output_type": "stream",
     "text": [
      "            religion  income  count\n",
      "0           Agnostic   <$10k     27\n",
      "1            Atheist   <$10k     12\n",
      "2           Buddhist   <$10k     27\n",
      "3           Catholic   <$10k    418\n",
      "4  Dont know/refused   <$10k     15\n"
     ]
    }
   ],
   "source": [
    "\n",
    "# Use melt to reshape the dataset\n",
    "df_melted = pd.melt(df, id_vars=['religion'], var_name='income', value_name='count')\n",
    "\n",
    "# Display the reshaped DataFrame\n",
    "print(df_melted.head())\n"
   ]
  },
  {
   "cell_type": "code",
   "execution_count": null,
   "metadata": {},
   "outputs": [],
   "source": []
  },
  {
   "cell_type": "code",
   "execution_count": null,
   "metadata": {},
   "outputs": [],
   "source": []
  },
  {
   "attachments": {},
   "cell_type": "markdown",
   "metadata": {},
   "source": [
    "### **Billboard Dataset**"
   ]
  },
  {
   "attachments": {},
   "cell_type": "markdown",
   "metadata": {},
   "source": [
    "This dataset outlines data about the top hit songs on the Billboard list and the week from entrance that it was in the billboard with the ranking."
   ]
  },
  {
   "attachments": {},
   "cell_type": "markdown",
   "metadata": {},
   "source": [
    "1. Read the dataset and store it in a pandas dataframe. Note that the usual utf-8 encoding does not work on this dataset. The reason behind this is that there might be characters that are not supported by `utf-8`.\n",
    "\n",
    "The suggestion is to use for this dataset `unicode_escape` encoding. (converts all non-ASCII characters into their \\uXXXX representations)"
   ]
  },
  {
   "cell_type": "code",
   "execution_count": 22,
   "metadata": {},
   "outputs": [
    {
     "name": "stdout",
     "output_type": "stream",
     "text": [
      "   year      artist.inverted                                  track  time  \\\n",
      "0  2000      Destiny's Child               Independent Women Part I  3:38   \n",
      "1  2000              Santana                           Maria, Maria  4:18   \n",
      "2  2000        Savage Garden                     I Knew I Loved You  4:07   \n",
      "3  2000              Madonna                                  Music  3:45   \n",
      "4  2000  Aguilera, Christina  Come On Over Baby (All I Want Is You)  3:38   \n",
      "\n",
      "  genre date.entered date.peaked  x1st.week  x2nd.week  x3rd.week  ...  \\\n",
      "0  Rock   2000-09-23  2000-11-18         78       63.0       49.0  ...   \n",
      "1  Rock   2000-02-12  2000-04-08         15        8.0        6.0  ...   \n",
      "2  Rock   1999-10-23  2000-01-29         71       48.0       43.0  ...   \n",
      "3  Rock   2000-08-12  2000-09-16         41       23.0       18.0  ...   \n",
      "4  Rock   2000-08-05  2000-10-14         57       47.0       45.0  ...   \n",
      "\n",
      "   x67th.week  x68th.week  x69th.week  x70th.week  x71st.week  x72nd.week  \\\n",
      "0         NaN         NaN         NaN         NaN         NaN         NaN   \n",
      "1         NaN         NaN         NaN         NaN         NaN         NaN   \n",
      "2         NaN         NaN         NaN         NaN         NaN         NaN   \n",
      "3         NaN         NaN         NaN         NaN         NaN         NaN   \n",
      "4         NaN         NaN         NaN         NaN         NaN         NaN   \n",
      "\n",
      "   x73rd.week  x74th.week  x75th.week  x76th.week  \n",
      "0         NaN         NaN         NaN         NaN  \n",
      "1         NaN         NaN         NaN         NaN  \n",
      "2         NaN         NaN         NaN         NaN  \n",
      "3         NaN         NaN         NaN         NaN  \n",
      "4         NaN         NaN         NaN         NaN  \n",
      "\n",
      "[5 rows x 83 columns]\n"
     ]
    }
   ],
   "source": [
    "import pandas as pd\n",
    "\n",
    "# Define the file path\n",
    "file_path = r\"data/billboard.csv\"\n",
    "\n",
    "# Load the dataset using unicode_escape encoding\n",
    "df = pd.read_csv(file_path, encoding='unicode_escape')\n",
    "\n",
    "# Display the first few rows\n",
    "print(df.head())\n"
   ]
  },
  {
   "cell_type": "code",
   "execution_count": null,
   "metadata": {},
   "outputs": [],
   "source": []
  },
  {
   "attachments": {},
   "cell_type": "markdown",
   "metadata": {},
   "source": [
    "2. Observe the first few rows of the dataset."
   ]
  },
  {
   "cell_type": "code",
   "execution_count": 24,
   "metadata": {},
   "outputs": [
    {
     "name": "stdout",
     "output_type": "stream",
     "text": [
      "   year      artist.inverted                                  track  time  \\\n",
      "0  2000      Destiny's Child               Independent Women Part I  3:38   \n",
      "1  2000              Santana                           Maria, Maria  4:18   \n",
      "2  2000        Savage Garden                     I Knew I Loved You  4:07   \n",
      "3  2000              Madonna                                  Music  3:45   \n",
      "4  2000  Aguilera, Christina  Come On Over Baby (All I Want Is You)  3:38   \n",
      "\n",
      "  genre date.entered date.peaked  x1st.week  x2nd.week  x3rd.week  ...  \\\n",
      "0  Rock   2000-09-23  2000-11-18         78       63.0       49.0  ...   \n",
      "1  Rock   2000-02-12  2000-04-08         15        8.0        6.0  ...   \n",
      "2  Rock   1999-10-23  2000-01-29         71       48.0       43.0  ...   \n",
      "3  Rock   2000-08-12  2000-09-16         41       23.0       18.0  ...   \n",
      "4  Rock   2000-08-05  2000-10-14         57       47.0       45.0  ...   \n",
      "\n",
      "   x67th.week  x68th.week  x69th.week  x70th.week  x71st.week  x72nd.week  \\\n",
      "0         NaN         NaN         NaN         NaN         NaN         NaN   \n",
      "1         NaN         NaN         NaN         NaN         NaN         NaN   \n",
      "2         NaN         NaN         NaN         NaN         NaN         NaN   \n",
      "3         NaN         NaN         NaN         NaN         NaN         NaN   \n",
      "4         NaN         NaN         NaN         NaN         NaN         NaN   \n",
      "\n",
      "   x73rd.week  x74th.week  x75th.week  x76th.week  \n",
      "0         NaN         NaN         NaN         NaN  \n",
      "1         NaN         NaN         NaN         NaN  \n",
      "2         NaN         NaN         NaN         NaN  \n",
      "3         NaN         NaN         NaN         NaN  \n",
      "4         NaN         NaN         NaN         NaN  \n",
      "\n",
      "[5 rows x 83 columns]\n"
     ]
    }
   ],
   "source": [
    "print(df.head())"
   ]
  },
  {
   "cell_type": "code",
   "execution_count": null,
   "metadata": {},
   "outputs": [],
   "source": []
  },
  {
   "attachments": {},
   "cell_type": "markdown",
   "metadata": {},
   "source": [
    "***What is wrong with the above dataset?***"
   ]
  },
  {
   "cell_type": "markdown",
   "metadata": {},
   "source": [
    "Each week's chart position is stored in a separate column (like x1st.week, x2nd.week, etc.), which makes the data wide and hard to analyze. The dataset is too wide — it should be reshaped so that each row represents a song's position in a specific week, not all weeks in separate columns."
   ]
  },
  {
   "attachments": {},
   "cell_type": "markdown",
   "metadata": {},
   "source": [
    "3. Let's, again, use the `melt` function to fix the general structure of the dataframe."
   ]
  },
  {
   "cell_type": "code",
   "execution_count": 50,
   "metadata": {},
   "outputs": [
    {
     "name": "stdout",
     "output_type": "stream",
     "text": [
      "First few rows of the dataset:\n",
      "   year      artist.inverted                                  track  time  \\\n",
      "0  2000      Destiny's Child               Independent Women Part I  3:38   \n",
      "1  2000              Santana                           Maria, Maria  4:18   \n",
      "2  2000        Savage Garden                     I Knew I Loved You  4:07   \n",
      "3  2000              Madonna                                  Music  3:45   \n",
      "4  2000  Aguilera, Christina  Come On Over Baby (All I Want Is You)  3:38   \n",
      "\n",
      "  genre date.entered date.peaked  x1st.week  x2nd.week  x3rd.week  ...  \\\n",
      "0  Rock   2000-09-23  2000-11-18         78       63.0       49.0  ...   \n",
      "1  Rock   2000-02-12  2000-04-08         15        8.0        6.0  ...   \n",
      "2  Rock   1999-10-23  2000-01-29         71       48.0       43.0  ...   \n",
      "3  Rock   2000-08-12  2000-09-16         41       23.0       18.0  ...   \n",
      "4  Rock   2000-08-05  2000-10-14         57       47.0       45.0  ...   \n",
      "\n",
      "   x67th.week  x68th.week  x69th.week  x70th.week  x71st.week  x72nd.week  \\\n",
      "0         NaN         NaN         NaN         NaN         NaN         NaN   \n",
      "1         NaN         NaN         NaN         NaN         NaN         NaN   \n",
      "2         NaN         NaN         NaN         NaN         NaN         NaN   \n",
      "3         NaN         NaN         NaN         NaN         NaN         NaN   \n",
      "4         NaN         NaN         NaN         NaN         NaN         NaN   \n",
      "\n",
      "   x73rd.week  x74th.week  x75th.week  x76th.week  \n",
      "0         NaN         NaN         NaN         NaN  \n",
      "1         NaN         NaN         NaN         NaN  \n",
      "2         NaN         NaN         NaN         NaN  \n",
      "3         NaN         NaN         NaN         NaN  \n",
      "4         NaN         NaN         NaN         NaN  \n",
      "\n",
      "[5 rows x 83 columns]\n",
      "\n",
      "Reshaped DataFrame:\n",
      "   year      artist.inverted                                  track  time  \\\n",
      "0  2000      Destiny's Child               Independent Women Part I  3:38   \n",
      "1  2000              Santana                           Maria, Maria  4:18   \n",
      "2  2000        Savage Garden                     I Knew I Loved You  4:07   \n",
      "3  2000              Madonna                                  Music  3:45   \n",
      "4  2000  Aguilera, Christina  Come On Over Baby (All I Want Is You)  3:38   \n",
      "\n",
      "  date.entered   week  rank  \n",
      "0   2000-09-23  genre  Rock  \n",
      "1   2000-02-12  genre  Rock  \n",
      "2   1999-10-23  genre  Rock  \n",
      "3   2000-08-12  genre  Rock  \n",
      "4   2000-08-05  genre  Rock  \n"
     ]
    }
   ],
   "source": [
    "import pandas as pd\n",
    "\n",
    "# Load the dataset\n",
    "df = pd.read_csv('data/billboard.csv', encoding='unicode_escape')\n",
    "\n",
    "# Display the first few rows to identify the actual column names\n",
    "print(\"First few rows of the dataset:\")\n",
    "print(df.head())\n",
    "\n",
    "# Use melt to reshape the dataset using the correct column names\n",
    "df_melted = pd.melt(df, id_vars=['year', 'artist.inverted', 'track', 'time', 'date.entered'], \n",
    "                    var_name='week', value_name='rank')\n",
    "\n",
    "# Display the reshaped DataFrame\n",
    "print(\"\\nReshaped DataFrame:\")\n",
    "print(df_melted.head())\n",
    "\n"
   ]
  },
  {
   "attachments": {},
   "cell_type": "markdown",
   "metadata": {},
   "source": [
    "If we inspect the current dataframe. We find that it is structured in a better way than before. \n",
    "\n",
    "However, the ***Week*** column looks a bit ugly!\n",
    "\n",
    "4. Let's try to place only the week number in that column without the extras surronding it."
   ]
  },
  {
   "cell_type": "code",
   "execution_count": 56,
   "metadata": {},
   "outputs": [
    {
     "name": "stdout",
     "output_type": "stream",
     "text": [
      "     year      artist.inverted                                  track  time  \\\n",
      "634  2000      Destiny's Child               Independent Women Part I  3:38   \n",
      "635  2000              Santana                           Maria, Maria  4:18   \n",
      "636  2000        Savage Garden                     I Knew I Loved You  4:07   \n",
      "637  2000              Madonna                                  Music  3:45   \n",
      "638  2000  Aguilera, Christina  Come On Over Baby (All I Want Is You)  3:38   \n",
      "\n",
      "    date.entered  week rank  \n",
      "634   2000-09-23     1   78  \n",
      "635   2000-02-12     1   15  \n",
      "636   1999-10-23     1   71  \n",
      "637   2000-08-12     1   41  \n",
      "638   2000-08-05     1   57  \n"
     ]
    }
   ],
   "source": [
    "\n",
    "# Use melt to reshape the dataset\n",
    "df_melted = pd.melt(df, id_vars=['year', 'artist.inverted', 'track', 'time', 'date.entered'], \n",
    "                    var_name='week', value_name='rank')\n",
    "\n",
    "# Clean the 'week' column to contain only the week number\n",
    "df_melted['week'] = df_melted['week'].str.extract(r'(\\d+)').astype(float)\n",
    "\n",
    "# Drop rows where 'week' is NaN\n",
    "df_melted = df_melted.dropna(subset=['week'])\n",
    "\n",
    "# Convert 'week' to integer\n",
    "df_melted['week'] = df_melted['week'].astype(int)\n",
    "\n",
    "# Display the reshaped DataFrame\n",
    "print(df_melted.head())\n",
    "\n"
   ]
  },
  {
   "attachments": {},
   "cell_type": "markdown",
   "metadata": {},
   "source": [
    "5. Now let's inspect the ***Week*** column in the dataframe."
   ]
  },
  {
   "cell_type": "code",
   "execution_count": 58,
   "metadata": {},
   "outputs": [
    {
     "data": {
      "text/plain": [
       "(array([ 1,  2,  3,  4,  5,  6,  7,  8,  9, 10, 11, 12, 13, 14, 15, 16, 17,\n",
       "        18, 19, 20, 21, 22, 23, 24, 25, 26, 27, 28, 29, 30, 31, 32, 33, 34,\n",
       "        35, 36, 37, 38, 39, 40, 41, 42, 43, 44, 45, 46, 47, 48, 49, 50, 51,\n",
       "        52, 53, 54, 55, 56, 57, 58, 59, 60, 61, 62, 63, 64, 65, 66, 67, 68,\n",
       "        69, 70, 71, 72, 73, 74, 75, 76]),\n",
       " dtype('int32'),\n",
       " count    24092.000000\n",
       " mean        38.500000\n",
       " std         21.937866\n",
       " min          1.000000\n",
       " 25%         19.750000\n",
       " 50%         38.500000\n",
       " 75%         57.250000\n",
       " max         76.000000\n",
       " Name: week, dtype: float64)"
      ]
     },
     "execution_count": 58,
     "metadata": {},
     "output_type": "execute_result"
    }
   ],
   "source": [
    "\n",
    "# Inspect the 'week' column\n",
    "unique_weeks = df_melted['week'].unique()\n",
    "week_dtype = df_melted['week'].dtype\n",
    "week_stats = df_melted['week'].describe()\n",
    "\n",
    "unique_weeks, week_dtype, week_stats\n"
   ]
  },
  {
   "attachments": {},
   "cell_type": "markdown",
   "metadata": {},
   "source": [
    "Next, let's try to find the date at which the song ranked the number that is shown per row.\n",
    "\n",
    "6. To do that let's first think of the equation that is going to get us the relevant date at which the song ranked the *rth*.\n",
    "\n"
   ]
  },
  {
   "attachments": {},
   "cell_type": "markdown",
   "metadata": {},
   "source": [
    "*Timedeltas are absolute differences in times, expressed in difference units (e.g. days, hours, minutes, seconds). This method converts an argument from a recognized timedelta format / value into a Timedelta type.*\n"
   ]
  },
  {
   "cell_type": "code",
   "execution_count": 60,
   "metadata": {},
   "outputs": [
    {
     "name": "stdout",
     "output_type": "stream",
     "text": [
      "     year      artist.inverted                                  track  time  \\\n",
      "634  2000      Destiny's Child               Independent Women Part I  3:38   \n",
      "635  2000              Santana                           Maria, Maria  4:18   \n",
      "636  2000        Savage Garden                     I Knew I Loved You  4:07   \n",
      "637  2000              Madonna                                  Music  3:45   \n",
      "638  2000  Aguilera, Christina  Come On Over Baby (All I Want Is You)  3:38   \n",
      "\n",
      "    date.entered  week rank date.ranked  \n",
      "634   2000-09-23     1   78  2000-09-30  \n",
      "635   2000-02-12     1   15  2000-02-19  \n",
      "636   1999-10-23     1   71  1999-10-30  \n",
      "637   2000-08-12     1   41  2000-08-19  \n",
      "638   2000-08-05     1   57  2000-08-12  \n"
     ]
    }
   ],
   "source": [
    "\n",
    "\n",
    "# Use melt to reshape the dataset\n",
    "df_melted = pd.melt(df, id_vars=['year', 'artist.inverted', 'track', 'time', 'date.entered'], \n",
    "                    var_name='week', value_name='rank')\n",
    "\n",
    "# Clean the 'week' column to contain only the week number\n",
    "df_melted['week'] = df_melted['week'].str.extract(r'(\\d+)').astype(float)\n",
    "\n",
    "# Drop rows where 'week' is NaN\n",
    "df_melted = df_melted.dropna(subset=['week'])\n",
    "\n",
    "# Convert 'week' column to integer\n",
    "df_melted['week'] = df_melted['week'].astype(int)\n",
    "\n",
    "# Convert 'date.entered' to datetime\n",
    "df_melted['date.entered'] = pd.to_datetime(df_melted['date.entered'])\n",
    "\n",
    "# Calculate 'date.ranked' by adding 'week' as a timedelta to 'date.entered'\n",
    "df_melted['date.ranked'] = df_melted['date.entered'] + pd.to_timedelta(df_melted['week'], unit='W')\n",
    "\n",
    "# Display the first few rows of the updated DataFrame\n",
    "print(df_melted.head())\n",
    "\n"
   ]
  },
  {
   "attachments": {},
   "cell_type": "markdown",
   "metadata": {},
   "source": [
    "***What is the problem with the calculation above?***"
   ]
  },
  {
   "cell_type": "markdown",
   "metadata": {},
   "source": [
    "The problem is that the calculation adds 1 week too many, it treats the first week as starting after the date.entered, but actually, week 1 should be the same as the date.entered."
   ]
  },
  {
   "attachments": {},
   "cell_type": "markdown",
   "metadata": {},
   "source": [
    "7. Let's only keep necessary columns"
   ]
  },
  {
   "cell_type": "code",
   "execution_count": 63,
   "metadata": {},
   "outputs": [
    {
     "name": "stdout",
     "output_type": "stream",
     "text": [
      "     year      artist.inverted                                  track  week  \\\n",
      "634  2000      Destiny's Child               Independent Women Part I     1   \n",
      "635  2000              Santana                           Maria, Maria     1   \n",
      "636  2000        Savage Garden                     I Knew I Loved You     1   \n",
      "637  2000              Madonna                                  Music     1   \n",
      "638  2000  Aguilera, Christina  Come On Over Baby (All I Want Is You)     1   \n",
      "\n",
      "    rank date.ranked  \n",
      "634   78  2000-09-23  \n",
      "635   15  2000-02-12  \n",
      "636   71  1999-10-23  \n",
      "637   41  2000-08-12  \n",
      "638   57  2000-08-05  \n"
     ]
    }
   ],
   "source": [
    "\n",
    "\n",
    "# Use melt to reshape the dataset\n",
    "df_melted = pd.melt(df, id_vars=['year', 'artist.inverted', 'track', 'time', 'date.entered'], \n",
    "                    var_name='week', value_name='rank')\n",
    "\n",
    "# Clean the 'week' column to contain only the week number\n",
    "df_melted['week'] = df_melted['week'].str.extract(r'(\\d+)').astype(float)\n",
    "\n",
    "# Drop rows where 'week' is NaN\n",
    "df_melted = df_melted.dropna(subset=['week'])\n",
    "\n",
    "# Convert 'week' to integer\n",
    "df_melted['week'] = df_melted['week'].astype(int)\n",
    "\n",
    "# Calculate the date at which the song ranked the number shown per row\n",
    "df_melted['date.entered'] = pd.to_datetime(df_melted['date.entered'])\n",
    "df_melted['date.ranked'] = df_melted['date.entered'] + pd.to_timedelta(df_melted['week'] - 1, unit='W')\n",
    "\n",
    "# Keep only necessary columns\n",
    "df_final = df_melted[['year', 'artist.inverted', 'track', 'week', 'rank', 'date.ranked']]\n",
    "\n",
    "# Display the final DataFrame\n",
    "print(df_final.head())\n",
    "\n"
   ]
  },
  {
   "attachments": {},
   "cell_type": "markdown",
   "metadata": {},
   "source": [
    "8. How to rename your columns?"
   ]
  },
  {
   "cell_type": "markdown",
   "metadata": {},
   "source": [
    "To rename columns in a pandas DataFrame, you use the .rename() function and pass a dictionary that maps the old column names to the new ones. For example, if you want to rename the column 'artist.inverted' to 'artist' and 'track' to 'song', you would write df.rename(columns={'artist.inverted': 'artist', 'track': 'song'}, inplace=True). This tells pandas to update the column names directly in the original DataFrame"
   ]
  },
  {
   "attachments": {},
   "cell_type": "markdown",
   "metadata": {},
   "source": [
    "Display the dataframe"
   ]
  },
  {
   "cell_type": "code",
   "execution_count": 66,
   "metadata": {},
   "outputs": [
    {
     "name": "stdout",
     "output_type": "stream",
     "text": [
      "     year      artist.inverted                                  track  week  \\\n",
      "634  2000      Destiny's Child               Independent Women Part I     1   \n",
      "635  2000              Santana                           Maria, Maria     1   \n",
      "636  2000        Savage Garden                     I Knew I Loved You     1   \n",
      "637  2000              Madonna                                  Music     1   \n",
      "638  2000  Aguilera, Christina  Come On Over Baby (All I Want Is You)     1   \n",
      "\n",
      "    rank date.ranked  \n",
      "634   78  2000-09-23  \n",
      "635   15  2000-02-12  \n",
      "636   71  1999-10-23  \n",
      "637   41  2000-08-12  \n",
      "638   57  2000-08-05  \n"
     ]
    }
   ],
   "source": [
    "\n",
    "# Use melt to reshape the dataset\n",
    "df_melted = pd.melt(df, id_vars=['year', 'artist.inverted', 'track', 'time', 'date.entered'], \n",
    "                    var_name='week', value_name='rank')\n",
    "\n",
    "# Clean the 'week' column to contain only the week number\n",
    "df_melted['week'] = df_melted['week'].str.extract(r'(\\d+)').astype(float)\n",
    "\n",
    "# Drop rows where 'week' is NaN\n",
    "df_melted.dropna(subset=['week'], inplace=True)\n",
    "\n",
    "# Convert 'week' to integer\n",
    "df_melted['week'] = df_melted['week'].astype(int)\n",
    "\n",
    "# Calculate the 'date.ranked' column\n",
    "df_melted['date.entered'] = pd.to_datetime(df_melted['date.entered'])\n",
    "df_melted['date.ranked'] = df_melted['date.entered'] + pd.to_timedelta(df_melted['week'] - 1, unit='W')\n",
    "\n",
    "# Keep only the necessary columns\n",
    "df_final = df_melted[['year', 'artist.inverted', 'track', 'week', 'rank', 'date.ranked']]\n",
    "\n",
    "# Display the final DataFrame\n",
    "print(df_final.head())\n",
    "\n"
   ]
  },
  {
   "attachments": {},
   "cell_type": "markdown",
   "metadata": {},
   "source": [
    "In the above dataframe, there are some *NaN* values. What are we going to do? <br/>\n",
    "9. Apply quick data cleaning and then observe the dataset"
   ]
  },
  {
   "cell_type": "code",
   "execution_count": 68,
   "metadata": {},
   "outputs": [
    {
     "name": "stdout",
     "output_type": "stream",
     "text": [
      "     year      artist.inverted                                  track  time  \\\n",
      "634  2000      Destiny's Child               Independent Women Part I  3:38   \n",
      "635  2000              Santana                           Maria, Maria  4:18   \n",
      "636  2000        Savage Garden                     I Knew I Loved You  4:07   \n",
      "637  2000              Madonna                                  Music  3:45   \n",
      "638  2000  Aguilera, Christina  Come On Over Baby (All I Want Is You)  3:38   \n",
      "\n",
      "    date.entered  week rank date.ranked  \n",
      "634   2000-09-23     1   78  2000-09-23  \n",
      "635   2000-02-12     1   15  2000-02-12  \n",
      "636   1999-10-23     1   71  1999-10-23  \n",
      "637   2000-08-12     1   41  2000-08-12  \n",
      "638   2000-08-05     1   57  2000-08-05  \n"
     ]
    }
   ],
   "source": [
    "\n",
    "# Use melt to reshape the dataset\n",
    "df_melted = pd.melt(df, id_vars=['year', 'artist.inverted', 'track', 'time', 'date.entered'], \n",
    "                    var_name='week', value_name='rank')\n",
    "\n",
    "# Clean the 'week' column to contain only the week number\n",
    "df_melted['week'] = df_melted['week'].str.extract(r'(\\d+)').astype(float)\n",
    "\n",
    "# Drop rows where 'week' is NaN\n",
    "df_melted.dropna(subset=['week'], inplace=True)\n",
    "\n",
    "# Convert 'week' column to integer\n",
    "df_melted['week'] = df_melted['week'].astype(int)\n",
    "\n",
    "# Calculate the date at which the song ranked the number shown per row\n",
    "df_melted['date.entered'] = pd.to_datetime(df_melted['date.entered'])\n",
    "df_melted['date.ranked'] = df_melted['date.entered'] + pd.to_timedelta(df_melted['week'] - 1, unit='W')\n",
    "\n",
    "# Drop rows with NaN values in 'rank' column\n",
    "df_cleaned = df_melted.dropna(subset=['rank'])\n",
    "\n",
    "# Display the cleaned DataFrame\n",
    "print(df_cleaned.head())\n",
    "\n"
   ]
  },
  {
   "attachments": {},
   "cell_type": "markdown",
   "metadata": {},
   "source": [
    "## **Data Cleaning**\n",
    "\n",
    "Data cleaning involves removing unwanted characters, imputing, or dropping missing values.\n",
    "\n",
    "The decision is based on the dataset you have, and the information you can extract from the other columns.\n",
    "\n",
    "\n",
    "Examples of data cleaning include cleaning:\n",
    "\n",
    "1.   **Missing Data**\n",
    "2.   **Irregular Data** (Outliers)\n",
    "3.   **Unnecessary Data** — Repetitive Data, Duplicates and more\n",
    "4.   **Inconsistent Data** — Capitalization, Addresses and more\n",
    "\n",
    "\n",
    "\n",
    "\n",
    "\n",
    "\n"
   ]
  },
  {
   "attachments": {},
   "cell_type": "markdown",
   "metadata": {},
   "source": [
    "### **Cars Data Set**"
   ]
  },
  {
   "attachments": {},
   "cell_type": "markdown",
   "metadata": {},
   "source": [
    "Start by reading the dataset related to car models: ./CSVs/cars.csv"
   ]
  },
  {
   "cell_type": "code",
   "execution_count": 88,
   "metadata": {
    "vscode": {
     "languageId": "plaintext"
    }
   },
   "outputs": [
    {
     "name": "stdout",
     "output_type": "stream",
     "text": [
      "                         Car     MPG Cylinders Displacement Horsepower  \\\n",
      "0                     STRING  DOUBLE       INT       DOUBLE     DOUBLE   \n",
      "1  Chevrolet Chevelle Malibu     NaN         8        307.0      130.0   \n",
      "2          Buick Skylark 320    15.0         8        350.0        NaN   \n",
      "3         Plymouth Satellite     NaN         8        318.0      150.0   \n",
      "4              AMC Rebel SST    16.0         8          NaN      150.0   \n",
      "\n",
      "   Weight Acceleration Model Origin  \n",
      "0  DOUBLE       DOUBLE   INT    CAT  \n",
      "1   3504.         12.0    70     US  \n",
      "2   3693.         11.5    70     US  \n",
      "3   3436.         11.0    70     US  \n",
      "4     NaN         12.0    70     US  \n"
     ]
    }
   ],
   "source": [
    "import pandas as pd\n",
    "import numpy as np\n",
    "# Load the dataset from 'cars 1.csv' using semicolon as the delimiter\n",
    "df_cars = pd.read_csv('data/cars.csv', delimiter=';')\n",
    "\n",
    "# Display the first few rows to observe its structure\n",
    "print(df_cars.head())\n",
    "\n"
   ]
  },
  {
   "attachments": {},
   "cell_type": "markdown",
   "metadata": {},
   "source": [
    "First Row seems to be the datatype, we need to remove it"
   ]
  },
  {
   "cell_type": "code",
   "execution_count": 90,
   "metadata": {},
   "outputs": [
    {
     "name": "stdout",
     "output_type": "stream",
     "text": [
      "                         Car   MPG Cylinders Displacement Horsepower Weight  \\\n",
      "1  Chevrolet Chevelle Malibu   NaN         8        307.0      130.0  3504.   \n",
      "2          Buick Skylark 320  15.0         8        350.0        NaN  3693.   \n",
      "3         Plymouth Satellite   NaN         8        318.0      150.0  3436.   \n",
      "4              AMC Rebel SST  16.0         8          NaN      150.0    NaN   \n",
      "5                Ford Torino  17.0         8        302.0      140.0  3449.   \n",
      "\n",
      "  Acceleration Model Origin  \n",
      "1         12.0    70     US  \n",
      "2         11.5    70     US  \n",
      "3         11.0    70     US  \n",
      "4         12.0    70     US  \n",
      "5         10.5    70     US  \n"
     ]
    }
   ],
   "source": [
    "\n",
    "# Remove the first row (data types)\n",
    "df_cars = df_cars.iloc[1:]\n",
    "\n",
    "# Display the cleaned DataFrame\n",
    "print(df_cars.head())\n",
    "\n"
   ]
  },
  {
   "attachments": {},
   "cell_type": "markdown",
   "metadata": {},
   "source": [
    "Let's observe the columns with null values.  Either by using the `isnull().sum()` function "
   ]
  },
  {
   "cell_type": "code",
   "execution_count": 92,
   "metadata": {},
   "outputs": [
    {
     "name": "stdout",
     "output_type": "stream",
     "text": [
      "year                 0\n",
      "artist.inverted      0\n",
      "track                0\n",
      "time                 0\n",
      "genre                0\n",
      "                  ... \n",
      "x72nd.week         314\n",
      "x73rd.week         314\n",
      "x74th.week         314\n",
      "x75th.week         314\n",
      "x76th.week         314\n",
      "Length: 83, dtype: int64\n"
     ]
    }
   ],
   "source": [
    "\n",
    "# Remove the first row (data types)\n",
    "df = df.iloc[1:]\n",
    "\n",
    "# Display the number of null values in each column\n",
    "null_values = df.isnull().sum()\n",
    "print(null_values)\n",
    "\n"
   ]
  },
  {
   "attachments": {},
   "cell_type": "markdown",
   "metadata": {},
   "source": [
    "There aren't many missing values. Let's take a glimpse at the percentage of the missing values:\n",
    "\n",
    "**HINT:** We'll need `Numpy` for the below task."
   ]
  },
  {
   "cell_type": "code",
   "execution_count": 94,
   "metadata": {},
   "outputs": [
    {
     "name": "stdout",
     "output_type": "stream",
     "text": [
      "Percentage of Missing Values: {missing_percentage:.2f}%\n"
     ]
    }
   ],
   "source": [
    "\n",
    "# Remove the first row (data types)\n",
    "df_cars = df_cars.iloc[1:]\n",
    "\n",
    "# Calculate the percentage of missing values in each column\n",
    "missing_percentage = df_cars.isnull().sum() / len(df_cars) * 100\n",
    "\n",
    "# Display the percentage of missing values\n",
    "print(\"Percentage of Missing Values: {missing_percentage:.2f}%\")\n",
    "\n",
    "# total_missing_percent = (cars_df.isnull().sum().sum() / cars_df.size) * 100\n",
    "\n",
    "# print(f\"Total missing percentage in the DataFrame: {total_missing_percent:.2f}%\")\n"
   ]
  },
  {
   "cell_type": "code",
   "execution_count": 98,
   "metadata": {},
   "outputs": [
    {
     "name": "stdout",
     "output_type": "stream",
     "text": [
      "Total % of Missing values is 0.19\n"
     ]
    }
   ],
   "source": [
    "\n",
    "# Remove the first row (data types)\n",
    "df = df.iloc[1:]\n",
    "\n",
    "# Calculate the total percentage of missing values\n",
    "total_missing = df.isnull().sum().sum()\n",
    "total_values = np.product(df.shape)\n",
    "missing_percentage = (total_missing / total_values) * 100\n",
    "\n",
    "# Print the result\n",
    "print(f\"Total % of Missing values is {missing_percentage:.2f}\")\n",
    "\n"
   ]
  },
  {
   "attachments": {},
   "cell_type": "markdown",
   "metadata": {},
   "source": [
    "Around *0.19%* of the values are missing, which isn't a lot. Therefore, we might go with the option of dropping all the rows with null values."
   ]
  },
  {
   "cell_type": "code",
   "execution_count": 100,
   "metadata": {},
   "outputs": [
    {
     "name": "stdout",
     "output_type": "stream",
     "text": [
      "The shape of the DataFrame after dropping rows with null values is (401, 9).\n"
     ]
    }
   ],
   "source": [
    "\n",
    "# Remove the first row (data types)\n",
    "df = df.iloc[1:]\n",
    "\n",
    "# Drop all rows with null values\n",
    "df_cleaned = df.dropna()\n",
    "\n",
    "# Display the resulting DataFrame shape\n",
    "print(f\"The shape of the DataFrame after dropping rows with null values is {df_cleaned.shape}.\")\n"
   ]
  },
  {
   "attachments": {},
   "cell_type": "markdown",
   "metadata": {},
   "source": [
    "Lets also check dropping the columns"
   ]
  },
  {
   "cell_type": "code",
   "execution_count": 102,
   "metadata": {},
   "outputs": [
    {
     "name": "stdout",
     "output_type": "stream",
     "text": [
      "The shape of the DataFrame after dropping columns with null values is (406, 5).\n"
     ]
    }
   ],
   "source": [
    "\n",
    "# Remove the first row (data types)\n",
    "df = df.iloc[1:]\n",
    "\n",
    "# Drop all columns with null values\n",
    "df_cleaned_columns = df.dropna(axis=1)\n",
    "\n",
    "# Display the resulting DataFrame shape\n",
    "print(f\"The shape of the DataFrame after dropping columns with null values is {df_cleaned_columns.shape}.\")\n"
   ]
  },
  {
   "attachments": {},
   "cell_type": "markdown",
   "metadata": {},
   "source": [
    "Let's observe how many columns we lost"
   ]
  },
  {
   "cell_type": "code",
   "execution_count": 104,
   "metadata": {},
   "outputs": [
    {
     "name": "stdout",
     "output_type": "stream",
     "text": [
      "The number of columns dropped is 4.\n"
     ]
    }
   ],
   "source": [
    "\n",
    "# Remove the first row (data types)\n",
    "df = df.iloc[1:]\n",
    "\n",
    "# Get the initial number of columns\n",
    "initial_columns = df.shape[1]\n",
    "\n",
    "# Drop all columns with null values\n",
    "df_cleaned_columns = df.dropna(axis=1)\n",
    "\n",
    "# Get the number of columns after dropping\n",
    "final_columns = df_cleaned_columns.shape[1]\n",
    "\n",
    "# Calculate the number of columns dropped\n",
    "columns_dropped = initial_columns - final_columns\n",
    "\n",
    "print(f\"The number of columns dropped is {columns_dropped}.\")\n",
    "\n"
   ]
  },
  {
   "attachments": {},
   "cell_type": "markdown",
   "metadata": {},
   "source": [
    "### **Cars Dataset - Filling in missing values automatically**\n",
    "\n",
    "Another option is to try and fill in the missing values through imputations."
   ]
  },
  {
   "attachments": {},
   "cell_type": "markdown",
   "metadata": {},
   "source": [
    "Let's take the `MPG` column for example. We can fill in the missing values with 0s through the following line of code:\n",
    "\n",
    "`df_cars.fillna(0) `. "
   ]
  },
  {
   "cell_type": "code",
   "execution_count": 106,
   "metadata": {},
   "outputs": [
    {
     "name": "stdout",
     "output_type": "stream",
     "text": [
      "Number of missing values in 'MPG' column before imputation: 2\n",
      "Number of missing values in 'MPG' column after imputation: 0\n"
     ]
    }
   ],
   "source": [
    "\n",
    "# Remove the first row (data types)\n",
    "df = df.iloc[1:]\n",
    "\n",
    "# Display the number of missing values in the 'MPG' column before imputation\n",
    "missing_values_before = df['MPG'].isnull().sum()\n",
    "print(f\"Number of missing values in 'MPG' column before imputation: {missing_values_before}\")\n",
    "\n",
    "# Fill missing values in the 'MPG' column with 0\n",
    "df['MPG'] = df['MPG'].fillna(0)\n",
    "\n",
    "# Display the number of missing values in the 'MPG' column after imputation\n",
    "missing_values_after = df['MPG'].isnull().sum()\n",
    "print(f\"Number of missing values in 'MPG' column after imputation: {missing_values_after}\")\n"
   ]
  },
  {
   "cell_type": "markdown",
   "metadata": {},
   "source": [
    "However, this does not make much sense as there isn't MPG equal to 0. How about we plot the MPG column and if it follows a random distribution we can use the mean of the column to compute the missing values. Otherwise, we can use the median (if there is a skewed normal distribution). However, there might be a better way of imputation which is getting the median or the mean of the MPG of the cars with similar attributes."
   ]
  },
  {
   "cell_type": "code",
   "execution_count": 114,
   "metadata": {},
   "outputs": [
    {
     "data": {
      "image/png": "[encoded data removed]",
      "text/plain": [
       "<Figure size 640x480 with 1 Axes>"
      ]
     },
     "metadata": {},
     "output_type": "display_data"
    },
    {
     "name": "stdout",
     "output_type": "stream",
     "text": [
      "Mean of MPG: 23.096277915632754\n",
      "Median of MPG: 22.5\n",
      "Number of missing values in 'MPG' column after advanced imputation: 0\n"
     ]
    }
   ],
   "source": [
    "import pandas as pd\n",
    "import matplotlib.pyplot as plt\n",
    "\n",
    "# Remove the first row (data types)\n",
    "df = df.iloc[1:]\n",
    "\n",
    "# Convert the 'MPG' column to numeric, forcing errors to NaN\n",
    "df['MPG'] = pd.to_numeric(df['MPG'], errors='coerce')\n",
    "\n",
    "# Plot the distribution of the 'MPG' column\n",
    "plt.hist(df['MPG'].dropna(), bins=20, edgecolor='k')\n",
    "plt.xlabel('MPG')\n",
    "plt.ylabel('Frequency')\n",
    "plt.title('Distribution of MPG')\n",
    "plt.show()\n",
    "\n",
    "# Calculate mean and median of the 'MPG' column\n",
    "mpg_mean = df['MPG'].mean()\n",
    "mpg_median = df['MPG'].median()\n",
    "\n",
    "print(f\"Mean of MPG: {mpg_mean}\")\n",
    "print(f\"Median of MPG: {mpg_median}\")\n",
    "\n",
    "# Advanced imputation strategy: fill missing 'MPG' values with the median MPG of cars with similar attributes\n",
    "df['MPG'] = df.groupby(['Cylinders', 'Origin', 'Model'])['MPG'].transform(lambda x: x.fillna(x.median()))\n",
    "\n",
    "# Display the number of missing values in the 'MPG' column after advanced imputation\n",
    "missing_values_after = df['MPG'].isnull().sum()\n",
    "print(f\"Number of missing values in 'MPG' column after advanced imputation: {missing_values_after}\")\n",
    "\n"
   ]
  },
  {
   "attachments": {},
   "cell_type": "markdown",
   "metadata": {},
   "source": [
    "If we observe the graph above, we can consider it in a way or another normally distributed. Therefore, we can impute the missing values using the mean."
   ]
  },
  {
   "attachments": {},
   "cell_type": "markdown",
   "metadata": {},
   "source": [
    "To compute the mean we need numeric values. However the values in the dataframe are objects. Therefore, we need to change them to numerics so that we can compute them."
   ]
  },
  {
   "cell_type": "code",
   "execution_count": 118,
   "metadata": {},
   "outputs": [
    {
     "name": "stdout",
     "output_type": "stream",
     "text": [
      "Car              object\n",
      "MPG             float64\n",
      "Cylinders         int64\n",
      "Displacement    float64\n",
      "Horsepower      float64\n",
      "Weight          float64\n",
      "Acceleration    float64\n",
      "Model             int64\n",
      "Origin           object\n",
      "dtype: object\n",
      "                  Car   MPG  Cylinders  Displacement  Horsepower  Weight  \\\n",
      "2   Buick Skylark 320  15.0          8         350.0         NaN  3693.0   \n",
      "3  Plymouth Satellite   NaN          8         318.0       150.0  3436.0   \n",
      "4       AMC Rebel SST  16.0          8           NaN       150.0     NaN   \n",
      "5         Ford Torino  17.0          8         302.0       140.0  3449.0   \n",
      "6    Ford Galaxie 500   NaN          8         429.0         NaN  4341.0   \n",
      "\n",
      "   Acceleration  Model Origin  \n",
      "2          11.5     70     US  \n",
      "3          11.0     70     US  \n",
      "4          12.0     70     US  \n",
      "5          10.5     70     US  \n",
      "6          10.0     70     US  \n"
     ]
    }
   ],
   "source": [
    "\n",
    "# Remove the first row (data types)\n",
    "df = df.iloc[1:]\n",
    "\n",
    "# Convert relevant columns to numeric types\n",
    "df['MPG'] = pd.to_numeric(df['MPG'], errors='coerce')\n",
    "df['Cylinders'] = pd.to_numeric(df['Cylinders'], errors='coerce')\n",
    "df['Displacement'] = pd.to_numeric(df['Displacement'], errors='coerce')\n",
    "df['Horsepower'] = pd.to_numeric(df['Horsepower'], errors='coerce')\n",
    "df['Weight'] = pd.to_numeric(df['Weight'], errors='coerce')\n",
    "df['Acceleration'] = pd.to_numeric(df['Acceleration'], errors='coerce')\n",
    "df['Model'] = pd.to_numeric(df['Model'], errors='coerce')\n",
    "\n",
    "# Display the data types to confirm conversion\n",
    "print(df.dtypes)\n",
    "\n",
    "# Display the first few rows to confirm the changes\n",
    "print(df.head())\n"
   ]
  },
  {
   "attachments": {},
   "cell_type": "markdown",
   "metadata": {},
   "source": [
    "Now let's see what is the mean of the MPG column"
   ]
  },
  {
   "cell_type": "code",
   "execution_count": 120,
   "metadata": {},
   "outputs": [
    {
     "name": "stdout",
     "output_type": "stream",
     "text": [
      "The mean of the 'MPG' column is 23.10.\n"
     ]
    }
   ],
   "source": [
    "\n",
    "# Remove the first row (data types)\n",
    "df = df.iloc[1:]\n",
    "\n",
    "# Convert relevant columns to numeric types\n",
    "df['MPG'] = pd.to_numeric(df['MPG'], errors='coerce')\n",
    "df['Cylinders'] = pd.to_numeric(df['Cylinders'], errors='coerce')\n",
    "df['Displacement'] = pd.to_numeric(df['Displacement'], errors='coerce')\n",
    "df['Horsepower'] = pd.to_numeric(df['Horsepower'], errors='coerce')\n",
    "df['Weight'] = pd.to_numeric(df['Weight'], errors='coerce')\n",
    "df['Acceleration'] = pd.to_numeric(df['Acceleration'], errors='coerce')\n",
    "df['Model'] = pd.to_numeric(df['Model'], errors='coerce')\n",
    "\n",
    "# Calculate the mean of the 'MPG' column\n",
    "mean_mpg = df['MPG'].mean()\n",
    "\n",
    "print(f\"The mean of the 'MPG' column is {mean_mpg:.2f}.\")\n",
    "\n"
   ]
  },
  {
   "attachments": {},
   "cell_type": "markdown",
   "metadata": {},
   "source": [
    "We can use this mean to compute the missing values since the graph demonstarted a normal distribution"
   ]
  },
  {
   "cell_type": "code",
   "execution_count": 124,
   "metadata": {},
   "outputs": [
    {
     "name": "stdout",
     "output_type": "stream",
     "text": [
      "Mean of MPG: 23.096277915632754\n",
      "Number of missing values in 'MPG' column after imputation: 0\n"
     ]
    }
   ],
   "source": [
    "import pandas as pd\n",
    "\n",
    "# Load the dataset\n",
    "df = pd.read_csv('./cars.csv', delimiter=';')\n",
    "\n",
    "# Remove the first row (data types)\n",
    "df = df.iloc[1:]\n",
    "\n",
    "# Convert relevant columns to numeric types\n",
    "df['MPG'] = pd.to_numeric(df['MPG'], errors='coerce')\n",
    "df['Cylinders'] = pd.to_numeric(df['Cylinders'], errors='coerce')\n",
    "df['Displacement'] = pd.to_numeric(df['Displacement'], errors='coerce')\n",
    "df['Horsepower'] = pd.to_numeric(df['Horsepower'], errors='coerce')\n",
    "df['Weight'] = pd.to_numeric(df['Weight'], errors='coerce')\n",
    "df['Acceleration'] = pd.to_numeric(df['Acceleration'], errors='coerce')\n",
    "df['Model'] = pd.to_numeric(df['Model'], errors='coerce')\n",
    "\n",
    "# Calculate the mean of the 'MPG' column\n",
    "mpg_mean = df['MPG'].mean()\n",
    "print(f\"Mean of MPG: {mpg_mean}\")\n",
    "\n",
    "# Impute missing values in the 'MPG' column using the mean\n",
    "df['MPG'] = df['MPG'].fillna(mpg_mean)\n",
    "\n",
    "# Display the number of missing values in the 'MPG' column after imputation\n",
    "missing_values_after = df['MPG'].isnull().sum()\n",
    "print(f\"Number of missing values in 'MPG' column after imputation: {missing_values_after}\")\n",
    "\n",
    "\n"
   ]
  },
  {
   "attachments": {},
   "cell_type": "markdown",
   "metadata": {},
   "source": [
    "### **Car Dataset - Simple Imputer**"
   ]
  },
  {
   "attachments": {},
   "cell_type": "markdown",
   "metadata": {},
   "source": [
    "*SimpleImputer* is a `scikit-learn` class which is helpful in handling the missing data in the predictive model dataset. It replaces the `NaN` values with a specified placeholder.\n",
    "It is implemented by the use of the `SimpleImputer()` method which takes the following arguments :\n",
    "\n",
    "`missing_values` : The missing_values placeholder which has to be imputed. By default is NaN\n",
    "\n",
    "`strategy` : The data which will replace the NaN values from the dataset. The strategy argument can take the values – ‘mean'(default), ‘median’, ‘most_frequent’ and ‘constant’.\n"
   ]
  },
  {
   "attachments": {},
   "cell_type": "markdown",
   "metadata": {},
   "source": [
    "Let's start by importing the `SimpleImputer` into our notebook"
   ]
  },
  {
   "cell_type": "code",
   "execution_count": 126,
   "metadata": {},
   "outputs": [],
   "source": [
    "from sklearn.impute import SimpleImputer"
   ]
  },
  {
   "attachments": {},
   "cell_type": "markdown",
   "metadata": {},
   "source": [
    "What we need to do are two essential steps:\n",
    "\n",
    "1. fit the data (compute the mean / median / most freq)\n",
    "2. transform the data (place the computed values in the NaN cells)"
   ]
  },
  {
   "cell_type": "code",
   "execution_count": 132,
   "metadata": {},
   "outputs": [
    {
     "name": "stdout",
     "output_type": "stream",
     "text": [
      "                         Car        MPG Cylinders Displacement Horsepower  \\\n",
      "1  Chevrolet Chevelle Malibu  23.096278         8        307.0      130.0   \n",
      "2          Buick Skylark 320  15.000000         8        350.0        NaN   \n",
      "3         Plymouth Satellite  23.096278         8        318.0      150.0   \n",
      "4              AMC Rebel SST  16.000000         8          NaN      150.0   \n",
      "5                Ford Torino  17.000000         8        302.0      140.0   \n",
      "\n",
      "  Weight Acceleration Model Origin  \n",
      "1  3504.         12.0    70     US  \n",
      "2  3693.         11.5    70     US  \n",
      "3  3436.         11.0    70     US  \n",
      "4    NaN         12.0    70     US  \n",
      "5  3449.         10.5    70     US  \n"
     ]
    }
   ],
   "source": [
    "import pandas as pd\n",
    "from sklearn.impute import SimpleImputer\n",
    "\n",
    "# Load the dataset\n",
    "df = pd.read_csv('data/cars.csv', delimiter=';')\n",
    "\n",
    "# Remove the first row (data types)\n",
    "df = df.iloc[1:]\n",
    "\n",
    "# Convert relevant columns to numeric types\n",
    "df['MPG'] = pd.to_numeric(df['MPG'], errors='coerce')\n",
    "\n",
    "# Initialize the SimpleImputer with the mean strategy\n",
    "imputer = SimpleImputer(strategy='mean')\n",
    "\n",
    "# Fit the imputer on the 'MPG' column and transform the data\n",
    "df['MPG'] = imputer.fit_transform(df[['MPG']])\n",
    "\n",
    "# Display the transformed dataset\n",
    "print(df.head())\n"
   ]
  },
  {
   "cell_type": "markdown",
   "metadata": {},
   "source": [
    "## **Outlier Detection** \n",
    "\n",
    "\n",
    "An Outlier is a data-item/object that deviates significantly from the rest of the (so-called normal)objects. They can be caused by measurement or execution errors. The analysis for outlier detection is referred to as outlier mining. There are many ways to detect the outliers, and the removal process is the data frame same as removing a data item from the panda’s data frame.\n",
    "\n",
    "\n",
    "\n",
    "https://www.geeksforgeeks.org/detect-and-remove-the-outliers-using-python/\n",
    "\n",
    "\n",
    "\n"
   ]
  },
  {
   "cell_type": "markdown",
   "metadata": {},
   "source": [
    "### Load the Dataset"
   ]
  },
  {
   "cell_type": "code",
   "execution_count": 138,
   "metadata": {},
   "outputs": [
    {
     "name": "stdout",
     "output_type": "stream",
     "text": [
      "       Pregnancies     Glucose  BloodPressure  SkinThickness     Insulin  \\\n",
      "count   768.000000  768.000000     768.000000     768.000000  768.000000   \n",
      "mean      3.845052  120.894531      69.105469      20.536458   79.799479   \n",
      "std       3.369578   31.972618      19.355807      15.952218  115.244002   \n",
      "min       0.000000    0.000000       0.000000       0.000000    0.000000   \n",
      "25%       1.000000   99.000000      62.000000       0.000000    0.000000   \n",
      "50%       3.000000  117.000000      72.000000      23.000000   30.500000   \n",
      "75%       6.000000  140.250000      80.000000      32.000000  127.250000   \n",
      "max      17.000000  199.000000     122.000000      99.000000  846.000000   \n",
      "\n",
      "              BMI  DiabetesPedigreeFunction         Age     Outcome  \n",
      "count  768.000000                768.000000  768.000000  768.000000  \n",
      "mean    31.992578                  0.471876   33.240885    0.348958  \n",
      "std      7.884160                  0.331329   11.760232    0.476951  \n",
      "min      0.000000                  0.078000   21.000000    0.000000  \n",
      "25%     27.300000                  0.243750   24.000000    0.000000  \n",
      "50%     32.000000                  0.372500   29.000000    0.000000  \n",
      "75%     36.600000                  0.626250   41.000000    1.000000  \n",
      "max     67.100000                  2.420000   81.000000    1.000000  \n"
     ]
    }
   ],
   "source": [
    "import pandas as pd\n",
    "\n",
    "diabetes = pd.read_csv(\"data/diabetes.csv\")\n",
    "print(diabetes.describe())\n"
   ]
  },
  {
   "cell_type": "markdown",
   "metadata": {},
   "source": [
    "### Outliers Visualization"
   ]
  },
  {
   "cell_type": "markdown",
   "metadata": {},
   "source": [
    "#### Visualizing Outliers Using Box Plot\n",
    "It captures the summary of the data effectively and efficiently with only a simple box and whiskers. Boxplot summarizes sample data using 25th, 50th, and 75th percentiles. One can just get insights(quartiles, median, and outliers) into the dataset by just looking at its boxplot."
   ]
  },
  {
   "cell_type": "code",
   "execution_count": 140,
   "metadata": {},
   "outputs": [
    {
     "data": {
      "image/png": "[encoded data removed]",
      "text/plain": [
       "<Figure size 1000x600 with 1 Axes>"
      ]
     },
     "metadata": {},
     "output_type": "display_data"
    }
   ],
   "source": [
    "import matplotlib.pyplot as plt\n",
    "import seaborn as sns\n",
    "\n",
    "plt.figure(figsize=(10, 6))\n",
    "sns.boxplot(data=diabetes)\n",
    "plt.xticks(rotation=45)\n",
    "plt.title(\"Box Plot of Diabetes Dataset\")\n",
    "plt.show()\n"
   ]
  },
  {
   "cell_type": "markdown",
   "metadata": {},
   "source": [
    "#### Visualizing Outliers Using ScatterPlot.\n",
    "\n",
    "It is used when you have paired numerical data and when your dependent variable has multiple values for each reading independent variable, or when trying to determine the relationship between the two variables. In the process of utilizing the scatter plot, one can also use it for outlier detection."
   ]
  },
  {
   "cell_type": "code",
   "execution_count": 142,
   "metadata": {},
   "outputs": [
    {
     "data": {
      "image/png": "[encoded data removed]",
      "text/plain": [
       "<Figure size 1000x600 with 1 Axes>"
      ]
     },
     "metadata": {},
     "output_type": "display_data"
    }
   ],
   "source": [
    "import pandas as pd\n",
    "import matplotlib.pyplot as plt\n",
    "import seaborn as sns\n",
    "\n",
    "# Load the diabetes dataset\n",
    "df = pd.read_csv(\"data/diabetes.csv\")\n",
    "\n",
    "# Basic scatter plot between Glucose and Insulin\n",
    "plt.figure(figsize=(10, 6))\n",
    "sns.scatterplot(data=df, x='Glucose', y='Insulin')\n",
    "plt.title(\"Scatter Plot of Glucose vs Insulin\")\n",
    "plt.xlabel(\"Glucose\")\n",
    "plt.ylabel(\"Insulin\")\n",
    "plt.grid(True)\n",
    "plt.show()\n"
   ]
  },
  {
   "cell_type": "markdown",
   "metadata": {},
   "source": [
    "#### Z-Score:\n",
    "Z- Score is also called a standard score. This value/score helps to understand that how far is the data point from the mean. And after setting up a threshold value one can utilize z score values of data points to define the outliers.\n",
    "<br>\n",
    "Zscore = (data_point -mean) / std. deviation\n",
    "\n"
   ]
  },
  {
   "cell_type": "code",
   "execution_count": 144,
   "metadata": {},
   "outputs": [
    {
     "name": "stdout",
     "output_type": "stream",
     "text": [
      "After Z-score filtering: (688, 9)\n"
     ]
    }
   ],
   "source": [
    "from scipy.stats import zscore\n",
    "\n",
    "# Calculate z-scores\n",
    "z_scores = zscore(diabetes.select_dtypes(include='number'))\n",
    "abs_z_scores = abs(z_scores)\n",
    "\n",
    "# Keep only data points where all z-scores are below threshold\n",
    "filtered_entries = (abs_z_scores < 3).all(axis=1)\n",
    "diabetes_z_filtered = diabetes[filtered_entries]\n",
    "print(\"After Z-score filtering:\", diabetes_z_filtered.shape)\n"
   ]
  },
  {
   "cell_type": "markdown",
   "metadata": {},
   "source": [
    "Now to define an outlier threshold value is chosen which is generally 3.0. As 99.7% of the data points lie between +/- 3 standard deviation (using Gaussian Distribution approach).\n",
    "\n",
    "Rows where Z value is greater than 2"
   ]
  },
  {
   "cell_type": "code",
   "execution_count": 147,
   "metadata": {},
   "outputs": [
    {
     "name": "stdout",
     "output_type": "stream",
     "text": [
      "Rows where Z > 2:\n",
      "      Pregnancies  Glucose  BloodPressure  SkinThickness  Insulin   BMI  \\\n",
      "4              0      137             40             35      168  43.1   \n",
      "8              2      197             70             45      543  30.5   \n",
      "12            10      139             80              0        0  27.1   \n",
      "13             1      189             60             23      846  30.1   \n",
      "22             7      196             90              0        0  39.8   \n",
      "..           ...      ...            ...            ...      ...   ...   \n",
      "748            3      187             70             22      200  36.4   \n",
      "750            4      136             70              0        0  31.2   \n",
      "753            0      181             88             44      510  43.3   \n",
      "759            6      190             92              0        0  35.5   \n",
      "763           10      101             76             48      180  32.9   \n",
      "\n",
      "     DiabetesPedigreeFunction  Age  Outcome  \n",
      "4                       2.288   33        1  \n",
      "8                       0.158   53        1  \n",
      "12                      1.441   57        0  \n",
      "13                      0.398   59        1  \n",
      "22                      0.451   41        1  \n",
      "..                        ...  ...      ...  \n",
      "748                     0.408   36        1  \n",
      "750                     1.182   22        1  \n",
      "753                     0.222   26        1  \n",
      "759                     0.278   66        1  \n",
      "763                     0.171   63        0  \n",
      "\n",
      "[174 rows x 9 columns]\n"
     ]
    }
   ],
   "source": [
    "from scipy.stats import zscore\n",
    "import pandas as pd\n",
    "\n",
    "# Load the dataset\n",
    "df = pd.read_csv(\"data/diabetes.csv\")\n",
    "\n",
    "# Compute z-scores\n",
    "z_scores = zscore(df)\n",
    "\n",
    "# Convert to DataFrame for readability\n",
    "z_df = pd.DataFrame(z_scores, columns=df.columns)\n",
    "\n",
    "# Find rows with any value greater than +2 or less than -2\n",
    "outliers = df[(z_df > 2).any(axis=1)]\n",
    "print(\"Rows where Z > 2:\\n\", outliers)\n"
   ]
  },
  {
   "cell_type": "markdown",
   "metadata": {},
   "source": [
    "Identifying rows that have values more than 2 standard deviations away from the mean, which are statistically unusual or extreme. These are considered potential outliers, especially in normally distributed data."
   ]
  },
  {
   "cell_type": "markdown",
   "metadata": {},
   "source": [
    "#### IQR (Inter-Quartile Range)\n",
    "Inter Quartile Range approach to finding the outliers is the most commonly used and most trusted approach used in the research field. <Br>\n",
    "IQR = Quartile3 - Quartile1"
   ]
  },
  {
   "cell_type": "code",
   "execution_count": 149,
   "metadata": {},
   "outputs": [
    {
     "name": "stdout",
     "output_type": "stream",
     "text": [
      "After IQR filtering: (639, 9)\n"
     ]
    }
   ],
   "source": [
    "Q1 = diabetes.quantile(0.25)\n",
    "Q3 = diabetes.quantile(0.75)\n",
    "IQR = Q3 - Q1\n",
    "\n",
    "diabetes_iqr_filtered = diabetes[~((diabetes < (Q1 - 1.5 * IQR)) | (diabetes > (Q3 + 1.5 * IQR))).any(axis=1)]\n",
    "print(\"After IQR filtering:\", diabetes_iqr_filtered.shape)\n"
   ]
  },
  {
   "cell_type": "markdown",
   "metadata": {},
   "source": [
    "To define the outlier base value is defined above and below dataset’s normal range namely Upper and Lower bounds, define the upper and the lower bound (1.5*IQR value is considered) :<br>\n",
    "upper = Q3 + 1.5 * IQR <br>\n",
    "lower = Q1 - 1.5 * IQR <br> "
   ]
  },
  {
   "cell_type": "code",
   "execution_count": 151,
   "metadata": {},
   "outputs": [
    {
     "name": "stdout",
     "output_type": "stream",
     "text": [
      "Lower Bound:\n",
      " Pregnancies                  -6.500\n",
      "Glucose                      37.125\n",
      "BloodPressure                35.000\n",
      "SkinThickness               -48.000\n",
      "Insulin                    -190.875\n",
      "BMI                          13.350\n",
      "DiabetesPedigreeFunction     -0.330\n",
      "Age                          -1.500\n",
      "Outcome                      -1.500\n",
      "dtype: float64\n",
      "\n",
      "Upper Bound:\n",
      " Pregnancies                  13.500\n",
      "Glucose                     202.125\n",
      "BloodPressure               107.000\n",
      "SkinThickness                80.000\n",
      "Insulin                     318.125\n",
      "BMI                          50.550\n",
      "DiabetesPedigreeFunction      1.200\n",
      "Age                          66.500\n",
      "Outcome                       2.500\n",
      "dtype: float64\n"
     ]
    }
   ],
   "source": [
    "\n",
    "# Calculate Q1 (25th percentile) and Q3 (75th percentile)\n",
    "Q1 = df.quantile(0.25)\n",
    "Q3 = df.quantile(0.75)\n",
    "\n",
    "# Compute IQR\n",
    "IQR = Q3 - Q1\n",
    "\n",
    "# Define lower and upper bounds\n",
    "lower_bound = Q1 - 1.5 * IQR\n",
    "upper_bound = Q3 + 1.5 * IQR\n",
    "\n",
    "# Print the bounds for each feature\n",
    "print(\"Lower Bound:\\n\", lower_bound)\n",
    "print(\"\\nUpper Bound:\\n\", upper_bound)\n",
    "\n"
   ]
  },
  {
   "cell_type": "markdown",
   "metadata": {},
   "source": [
    "- Removing the outliers:\n",
    "For removing the outlier, one must follow the same process of removing an entry from the dataset using its exact position in the dataset because in all the above methods of detecting the outliers end result is the list of all those data items that satisfy the outlier definition according to the method used."
   ]
  },
  {
   "cell_type": "code",
   "execution_count": 161,
   "metadata": {},
   "outputs": [
    {
     "name": "stdout",
     "output_type": "stream",
     "text": [
      "Original shape: (768, 9)\n",
      "Cleaned shape (outliers removed): (639, 9)\n"
     ]
    },
    {
     "data": {
      "text/html": [
       "<div>\n",
       "<style scoped>\n",
       "    .dataframe tbody tr th:only-of-type {\n",
       "        vertical-align: middle;\n",
       "    }\n",
       "\n",
       "    .dataframe tbody tr th {\n",
       "        vertical-align: top;\n",
       "    }\n",
       "\n",
       "    .dataframe thead th {\n",
       "        text-align: right;\n",
       "    }\n",
       "</style>\n",
       "<table border=\"1\" class=\"dataframe\">\n",
       "  <thead>\n",
       "    <tr style=\"text-align: right;\">\n",
       "      <th></th>\n",
       "      <th>Pregnancies</th>\n",
       "      <th>Glucose</th>\n",
       "      <th>BloodPressure</th>\n",
       "      <th>SkinThickness</th>\n",
       "      <th>Insulin</th>\n",
       "      <th>BMI</th>\n",
       "      <th>DiabetesPedigreeFunction</th>\n",
       "      <th>Age</th>\n",
       "      <th>Outcome</th>\n",
       "    </tr>\n",
       "  </thead>\n",
       "  <tbody>\n",
       "    <tr>\n",
       "      <th>0</th>\n",
       "      <td>6</td>\n",
       "      <td>148</td>\n",
       "      <td>72</td>\n",
       "      <td>35</td>\n",
       "      <td>0</td>\n",
       "      <td>33.6</td>\n",
       "      <td>0.627</td>\n",
       "      <td>50</td>\n",
       "      <td>1</td>\n",
       "    </tr>\n",
       "    <tr>\n",
       "      <th>1</th>\n",
       "      <td>1</td>\n",
       "      <td>85</td>\n",
       "      <td>66</td>\n",
       "      <td>29</td>\n",
       "      <td>0</td>\n",
       "      <td>26.6</td>\n",
       "      <td>0.351</td>\n",
       "      <td>31</td>\n",
       "      <td>0</td>\n",
       "    </tr>\n",
       "    <tr>\n",
       "      <th>2</th>\n",
       "      <td>8</td>\n",
       "      <td>183</td>\n",
       "      <td>64</td>\n",
       "      <td>0</td>\n",
       "      <td>0</td>\n",
       "      <td>23.3</td>\n",
       "      <td>0.672</td>\n",
       "      <td>32</td>\n",
       "      <td>1</td>\n",
       "    </tr>\n",
       "    <tr>\n",
       "      <th>3</th>\n",
       "      <td>1</td>\n",
       "      <td>89</td>\n",
       "      <td>66</td>\n",
       "      <td>23</td>\n",
       "      <td>94</td>\n",
       "      <td>28.1</td>\n",
       "      <td>0.167</td>\n",
       "      <td>21</td>\n",
       "      <td>0</td>\n",
       "    </tr>\n",
       "    <tr>\n",
       "      <th>4</th>\n",
       "      <td>5</td>\n",
       "      <td>116</td>\n",
       "      <td>74</td>\n",
       "      <td>0</td>\n",
       "      <td>0</td>\n",
       "      <td>25.6</td>\n",
       "      <td>0.201</td>\n",
       "      <td>30</td>\n",
       "      <td>0</td>\n",
       "    </tr>\n",
       "  </tbody>\n",
       "</table>\n",
       "</div>"
      ],
      "text/plain": [
       "   Pregnancies  Glucose  BloodPressure  SkinThickness  Insulin   BMI  \\\n",
       "0            6      148             72             35        0  33.6   \n",
       "1            1       85             66             29        0  26.6   \n",
       "2            8      183             64              0        0  23.3   \n",
       "3            1       89             66             23       94  28.1   \n",
       "4            5      116             74              0        0  25.6   \n",
       "\n",
       "   DiabetesPedigreeFunction  Age  Outcome  \n",
       "0                     0.627   50        1  \n",
       "1                     0.351   31        0  \n",
       "2                     0.672   32        1  \n",
       "3                     0.167   21        0  \n",
       "4                     0.201   30        0  "
      ]
     },
     "execution_count": 161,
     "metadata": {},
     "output_type": "execute_result"
    }
   ],
   "source": [
    "# Create a mask for rows where all values are within bounds\n",
    "mask = ~((df < lower_bound) | (df > upper_bound)).any(axis=1)\n",
    "\n",
    "# Apply the mask to keep only non-outlier rows\n",
    "df_cleaned = df[mask].reset_index(drop=True)\n",
    "\n",
    "print(\"Original shape:\", df.shape)\n",
    "print(\"Cleaned shape (outliers removed):\", df_cleaned.shape)\n",
    "\n",
    "df_cleaned.head()"
   ]
  },
  {
   "cell_type": "code",
   "execution_count": null,
   "metadata": {},
   "outputs": [],
   "source": []
  }
 ],
 "metadata": {
  "kernelspec": {
   "display_name": "Python 3 (ipykernel)",
   "language": "python",
   "name": "python3"
  },
  "language_info": {
   "codemirror_mode": {
    "name": "ipython",
    "version": 3
   },
   "file_extension": ".py",
   "mimetype": "text/x-python",
   "name": "python",
   "nbconvert_exporter": "python",
   "pygments_lexer": "ipython3",
   "version": "3.12.4"
  }
 },
 "nbformat": 4,
 "nbformat_minor": 4
}
